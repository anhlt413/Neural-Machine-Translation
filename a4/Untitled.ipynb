{
 "cells": [
  {
   "cell_type": "code",
   "execution_count": 1,
   "id": "f57bf400",
   "metadata": {},
   "outputs": [],
   "source": [
    "from utils import *"
   ]
  },
  {
   "cell_type": "code",
   "execution_count": 2,
   "id": "cda6c16e",
   "metadata": {},
   "outputs": [
    {
     "data": {
      "text/plain": [
       "tensor([[1, 2, 3, 0],\n",
       "        [2, 0, 0, 0],\n",
       "        [4, 5, 6, 7]])"
      ]
     },
     "execution_count": 2,
     "metadata": {},
     "output_type": "execute_result"
    }
   ],
   "source": [
    "x = [[1,2,3], [2],[4,5,6,7]]\n",
    "pad_sents(x, 0)"
   ]
  },
  {
   "cell_type": "code",
   "execution_count": 24,
   "id": "e4a69f63",
   "metadata": {},
   "outputs": [],
   "source": [
    "x = torch.rand((5,2,3))"
   ]
  },
  {
   "cell_type": "code",
   "execution_count": 25,
   "id": "3614fbca",
   "metadata": {},
   "outputs": [
    {
     "data": {
      "text/plain": [
       "tensor([[[0.0324, 0.3548, 0.8817],\n",
       "         [0.8524, 0.4267, 0.5391]],\n",
       "\n",
       "        [[0.2047, 0.1455, 0.5978],\n",
       "         [0.5078, 0.5835, 0.6966]],\n",
       "\n",
       "        [[0.7262, 0.2605, 0.3490],\n",
       "         [0.3811, 0.1824, 0.1718]],\n",
       "\n",
       "        [[0.7468, 0.1123, 0.1084],\n",
       "         [0.7598, 0.8912, 0.4832]],\n",
       "\n",
       "        [[0.3590, 0.8709, 0.6463],\n",
       "         [0.9781, 0.3234, 0.1098]]])"
      ]
     },
     "execution_count": 25,
     "metadata": {},
     "output_type": "execute_result"
    }
   ],
   "source": [
    "x"
   ]
  },
  {
   "cell_type": "code",
   "execution_count": 29,
   "id": "29607454",
   "metadata": {},
   "outputs": [
    {
     "ename": "AttributeError",
     "evalue": "'Tensor' object has no attribute 'permute_'",
     "output_type": "error",
     "traceback": [
      "\u001b[1;31m---------------------------------------------------------------------------\u001b[0m",
      "\u001b[1;31mAttributeError\u001b[0m                            Traceback (most recent call last)",
      "\u001b[1;32m<ipython-input-29-a276feef9c6a>\u001b[0m in \u001b[0;36m<module>\u001b[1;34m\u001b[0m\n\u001b[1;32m----> 1\u001b[1;33m \u001b[0mx\u001b[0m\u001b[1;33m.\u001b[0m\u001b[0mpermute_\u001b[0m\u001b[1;33m(\u001b[0m\u001b[1;36m1\u001b[0m\u001b[1;33m,\u001b[0m\u001b[1;36m0\u001b[0m\u001b[1;33m,\u001b[0m\u001b[1;36m2\u001b[0m\u001b[1;33m)\u001b[0m\u001b[1;33m\u001b[0m\u001b[1;33m\u001b[0m\u001b[0m\n\u001b[0m",
      "\u001b[1;31mAttributeError\u001b[0m: 'Tensor' object has no attribute 'permute_'"
     ]
    }
   ],
   "source": [
    "x.permute(1,0,2)"
   ]
  },
  {
   "cell_type": "code",
   "execution_count": 28,
   "id": "5bb69cfa",
   "metadata": {},
   "outputs": [
    {
     "data": {
      "text/plain": [
       "tensor([[[0.0324, 0.3548, 0.8817],\n",
       "         [0.8524, 0.4267, 0.5391]],\n",
       "\n",
       "        [[0.2047, 0.1455, 0.5978],\n",
       "         [0.5078, 0.5835, 0.6966]],\n",
       "\n",
       "        [[0.7262, 0.2605, 0.3490],\n",
       "         [0.3811, 0.1824, 0.1718]],\n",
       "\n",
       "        [[0.7468, 0.1123, 0.1084],\n",
       "         [0.7598, 0.8912, 0.4832]],\n",
       "\n",
       "        [[0.3590, 0.8709, 0.6463],\n",
       "         [0.9781, 0.3234, 0.1098]]])"
      ]
     },
     "execution_count": 28,
     "metadata": {},
     "output_type": "execute_result"
    }
   ],
   "source": [
    "x"
   ]
  },
  {
   "cell_type": "code",
   "execution_count": 39,
   "id": "99701298",
   "metadata": {},
   "outputs": [],
   "source": [
    "import torch.nn as nn\n",
    "X = torch.rand((3,3,3))\n",
    "source_lengths = [3,2,1]\n",
    "encoder = nn.LSTM(3,2, bidirectional = True)\n",
    "# X = nn.utils.rnn.pack_padded_sequence(X, lengths=source_lengths)\n",
    "# enc_hiddens, (hidden, cell) = encoder(X)\n",
    "# enc_hiddens, _ = nn.utils.rnn.pad_padded_sequence(enc_hiddens)"
   ]
  },
  {
   "cell_type": "code",
   "execution_count": 40,
   "id": "36d5ebe3",
   "metadata": {},
   "outputs": [],
   "source": [
    "X_pack = nn.utils.rnn.pack_padded_sequence(X, lengths=source_lengths)"
   ]
  },
  {
   "cell_type": "code",
   "execution_count": 41,
   "id": "f5d69dd1",
   "metadata": {},
   "outputs": [],
   "source": [
    "enc_hiddens, (hidden, cell) = encoder(X_pack)"
   ]
  },
  {
   "cell_type": "code",
   "execution_count": 42,
   "id": "31859b4b",
   "metadata": {},
   "outputs": [],
   "source": [
    "enc_hiddens, _ = nn.utils.rnn.pad_packed_sequence(enc_hiddens)"
   ]
  },
  {
   "cell_type": "code",
   "execution_count": 47,
   "id": "75d68710",
   "metadata": {},
   "outputs": [
    {
     "data": {
      "text/plain": [
       "tensor([[[-0.0809, -0.2559,  0.2001,  0.1162],\n",
       "         [-0.0781, -0.3003,  0.0108,  0.0408],\n",
       "         [ 0.0435, -0.1864,  0.0023, -0.0671]],\n",
       "\n",
       "        [[-0.1183, -0.2855,  0.1205,  0.0702],\n",
       "         [-0.1089, -0.3104,  0.0658,  0.0196],\n",
       "         [ 0.0000,  0.0000,  0.0000,  0.0000]],\n",
       "\n",
       "        [[-0.1311, -0.3429,  0.0445,  0.0451],\n",
       "         [ 0.0000,  0.0000,  0.0000,  0.0000],\n",
       "         [ 0.0000,  0.0000,  0.0000,  0.0000]]], grad_fn=<CopySlices>)"
      ]
     },
     "execution_count": 47,
     "metadata": {},
     "output_type": "execute_result"
    }
   ],
   "source": [
    "enc_hiddens"
   ]
  },
  {
   "cell_type": "code",
   "execution_count": 44,
   "id": "d52fe8e3",
   "metadata": {},
   "outputs": [
    {
     "data": {
      "text/plain": [
       "tensor([[[-0.1311, -0.3429],\n",
       "         [-0.1089, -0.3104],\n",
       "         [ 0.0435, -0.1864]],\n",
       "\n",
       "        [[ 0.2001,  0.1162],\n",
       "         [ 0.0108,  0.0408],\n",
       "         [ 0.0023, -0.0671]]], grad_fn=<StackBackward>)"
      ]
     },
     "execution_count": 44,
     "metadata": {},
     "output_type": "execute_result"
    }
   ],
   "source": [
    "hidden"
   ]
  },
  {
   "cell_type": "code",
   "execution_count": 36,
   "id": "bebe0713",
   "metadata": {},
   "outputs": [
    {
     "data": {
      "text/plain": [
       "tensor([[[ 0.0176, -0.0277],\n",
       "         [ 0.0352, -0.1002],\n",
       "         [-0.0018, -0.0512]],\n",
       "\n",
       "        [[ 0.1072,  0.0943],\n",
       "         [ 0.0434,  0.0758],\n",
       "         [ 0.0302,  0.1004]]], grad_fn=<StackBackward>)"
      ]
     },
     "execution_count": 36,
     "metadata": {},
     "output_type": "execute_result"
    }
   ],
   "source": [
    "hidden"
   ]
  },
  {
   "cell_type": "code",
   "execution_count": 45,
   "id": "a80b5eb0",
   "metadata": {},
   "outputs": [],
   "source": [
    "_, (a, _) = encoder(X)"
   ]
  },
  {
   "cell_type": "code",
   "execution_count": 46,
   "id": "707ed331",
   "metadata": {},
   "outputs": [
    {
     "data": {
      "text/plain": [
       "tensor([[[-0.1311, -0.3429],\n",
       "         [-0.0880, -0.3242],\n",
       "         [-0.0731, -0.3028]],\n",
       "\n",
       "        [[ 0.2001,  0.1162],\n",
       "         [ 0.0322,  0.0349],\n",
       "         [ 0.0823, -0.0195]]], grad_fn=<StackBackward>)"
      ]
     },
     "execution_count": 46,
     "metadata": {},
     "output_type": "execute_result"
    }
   ],
   "source": [
    "a"
   ]
  },
  {
   "cell_type": "code",
   "execution_count": 2,
   "id": "d5ebaf0e",
   "metadata": {},
   "outputs": [
    {
     "name": "stdout",
     "output_type": "stream",
     "text": [
      "Running Sanity Check for Question 1d: Encode\n",
      "--------------------------------------------------------------------------------\n",
      "enc_hiddens Sanity Checks Passed!\n",
      "dec_init_state[0] Sanity Checks Passed!\n",
      "dec_init_state[1] Sanity Checks Passed!\n",
      "--------------------------------------------------------------------------------\n",
      "All Sanity Checks Passed for Question 1d: Encode!\n",
      "--------------------------------------------------------------------------------\n"
     ]
    }
   ],
   "source": [
    "!python sanity_check.py 1d"
   ]
  },
  {
   "cell_type": "code",
   "execution_count": 7,
   "id": "7ec5af1b",
   "metadata": {},
   "outputs": [
    {
     "name": "stdout",
     "output_type": "stream",
     "text": [
      "--------------------------------------------------------------------------------\n",
      "Running Sanity Check for Question 1f: Step\n",
      "--------------------------------------------------------------------------------\n",
      "dec_state[0] Sanity Checks Passed!\n",
      "dec_state[1] Sanity Checks Passed!\n",
      "combined_output  Sanity Checks Passed!\n",
      "e_t Sanity Checks Passed!\n",
      "--------------------------------------------------------------------------------\n",
      "All Sanity Checks Passed for Question 1f: Step!\n",
      "--------------------------------------------------------------------------------\n"
     ]
    }
   ],
   "source": [
    "!python sanity_check.py 1f"
   ]
  }
 ],
 "metadata": {
  "kernelspec": {
   "display_name": "nlu",
   "language": "python",
   "name": "nlu"
  },
  "language_info": {
   "codemirror_mode": {
    "name": "ipython",
    "version": 3
   },
   "file_extension": ".py",
   "mimetype": "text/x-python",
   "name": "python",
   "nbconvert_exporter": "python",
   "pygments_lexer": "ipython3",
   "version": "3.8.8"
  }
 },
 "nbformat": 4,
 "nbformat_minor": 5
}
